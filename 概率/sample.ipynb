{
 "metadata": {
  "language_info": {
   "codemirror_mode": {
    "name": "ipython",
    "version": 3
   },
   "file_extension": ".py",
   "mimetype": "text/x-python",
   "name": "python",
   "nbconvert_exporter": "python",
   "pygments_lexer": "ipython3",
   "version": 3
  },
  "orig_nbformat": 2
 },
 "nbformat": 4,
 "nbformat_minor": 2,
 "cells": [
  {
   "source": [
    "# 样本量估计"
   ],
   "cell_type": "markdown",
   "metadata": {}
  },
  {
   "source": [
    "## 指标为分类"
   ],
   "cell_type": "markdown",
   "metadata": {}
  },
  {
   "source": [
    "计算公式\n",
    "$$ n=\\frac {(1+\\frac 1k)(\\mu_{\\alpha} + \\mu_{\\beta})^2p(1-p)}{\\delta^2} $$ "
   ],
   "cell_type": "markdown",
   "metadata": {}
  },
  {
   "source": [
    "$$\n",
    "p=\\frac {p_1+kp_2}{1+k} ,p_1 对照组概率,p_2 实验组概率 \\\\ \n",
    "k=对照组数/实验组数,如果两组样本比例一致，则k=1 \\\\\n",
    "\\delta = (p_2-p_1) \\\\ \n",
    "\\mu_{\\alpha} , u值表，根据单侧双侧进行查询值 \\\\\n",
    "\\mu_{\\beta} , u值表，根据单侧双侧进行查询值 \n",
    "$$"
   ],
   "cell_type": "markdown",
   "metadata": {}
  },
  {
   "source": [
    "## 指标为均值"
   ],
   "cell_type": "markdown",
   "metadata": {}
  },
  {
   "source": [
    "计算公式\n",
    "$$ n=\\frac {2(\\mu_{\\alpha} + \\mu_{\\beta})^2(1+\\frac 1k)\\sigma^2}{\\delta^2} $$"
   ],
   "cell_type": "markdown",
   "metadata": {}
  },
  {
   "source": [
    "$$\n",
    "\\sigma 总体方差，可用样本方差代替 \\sigma^2={(s_1^2 + s_2^2) \\over 2} \\\\\n",
    "s_1 对照组标准差，s_2 实验组标准差 \\\\\n",
    "\\delta=实验组均值-对照组均值的绝对值\n",
    "$$"
   ],
   "cell_type": "markdown",
   "metadata": {}
  },
  {
   "cell_type": "code",
   "execution_count": null,
   "metadata": {},
   "outputs": [],
   "source": []
  }
 ]
}