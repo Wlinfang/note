{
 "cells": [
  {
   "cell_type": "code",
   "execution_count": 1,
   "metadata": {
    "ExecuteTime": {
     "end_time": "2021-01-24T14:55:13.487110Z",
     "start_time": "2021-01-24T14:55:13.482002Z"
    }
   },
   "outputs": [],
   "source": [
    "import numpy as np\n",
    "import stats"
   ]
  },
  {
   "cell_type": "markdown",
   "metadata": {},
   "source": [
    "# 概率分布"
   ]
  },
  {
   "cell_type": "markdown",
   "metadata": {},
   "source": [
    "## 离散分布"
   ]
  },
  {
   "cell_type": "markdown",
   "metadata": {
    "ExecuteTime": {
     "end_time": "2021-01-24T15:11:15.773709Z",
     "start_time": "2021-01-24T15:11:15.769387Z"
    }
   },
   "source": [
    "### 二项分布 X~B(n,p)"
   ]
  },
  {
   "cell_type": "code",
   "execution_count": null,
   "metadata": {},
   "outputs": [],
   "source": []
  },
  {
   "cell_type": "markdown",
   "metadata": {},
   "source": [
    "# 参数估计"
   ]
  },
  {
   "cell_type": "markdown",
   "metadata": {},
   "source": [
    "- 变量分为单变量或多变量，多变量可看作向量研究\n",
    "- 变量维度可为离散变量或连续型变量\n",
    "- 变量的分布多种多样，如果变量服从某一种分布，则该分布函数中的参数说的是总体样本的参数\n",
    "- 参数估计即为使用部分样本估计总体分布的参数\n",
    "- 比如正态分布中的均值和方差，即为参数"
   ]
  },
  {
   "cell_type": "code",
   "execution_count": null,
   "metadata": {},
   "outputs": [],
   "source": []
  },
  {
   "cell_type": "markdown",
   "metadata": {},
   "source": [
    "# 样本量估计"
   ]
  },
  {
   "cell_type": "markdown",
   "metadata": {},
   "source": [
    "## 指标为分类"
   ]
  },
  {
   "cell_type": "markdown",
   "metadata": {},
   "source": [
    "计算公式\n",
    "$$ n=\\frac {(1+\\frac 1k)(\\mu_{\\alpha} + \\mu_{\\beta})^2p(1-p)}{\\delta^2} $$ "
   ]
  },
  {
   "cell_type": "markdown",
   "metadata": {},
   "source": [
    "$$\n",
    "p=\\frac {p_1+kp_2}{1+k} ,p_1 对照组概率,p_2 实验组概率 \\\\ \n",
    "k=对照组数/实验组数,如果两组样本比例一致，则k=1 \\\\\n",
    "\\delta = (p_2-p_1) \\\\ \n",
    "\\mu_{\\alpha} , u值表，根据单侧双侧进行查询值 \\\\\n",
    "\\mu_{\\beta} , u值表，根据单侧双侧进行查询值 \n",
    "$$"
   ]
  },
  {
   "cell_type": "markdown",
   "metadata": {},
   "source": [
    "## 指标为均值"
   ]
  },
  {
   "cell_type": "markdown",
   "metadata": {},
   "source": [
    "计算公式\n",
    "$$ n=\\frac {2(\\mu_{\\alpha} + \\mu_{\\beta})^2(1+\\frac 1k)\\sigma^2}{\\delta^2} $$"
   ]
  },
  {
   "cell_type": "markdown",
   "metadata": {},
   "source": [
    "$$\n",
    "\\sigma 总体方差，可用样本方差代替 \\sigma^2={(s_1^2 + s_2^2) \\over 2} \\\\\n",
    "s_1 对照组标准差，s_2 实验组标准差 \\\\\n",
    "\\delta=实验组均值-对照组均值的绝对值\n",
    "$$"
   ]
  },
  {
   "cell_type": "code",
   "execution_count": null,
   "metadata": {},
   "outputs": [],
   "source": []
  }
 ],
 "metadata": {
  "kernelspec": {
   "display_name": "Python 3",
   "language": "python",
   "name": "python3"
  },
  "language_info": {
   "codemirror_mode": {
    "name": "ipython",
    "version": 3
   },
   "file_extension": ".py",
   "mimetype": "text/x-python",
   "name": "python",
   "nbconvert_exporter": "python",
   "pygments_lexer": "ipython3",
   "version": "3.7.3"
  },
  "toc": {
   "base_numbering": 1,
   "nav_menu": {},
   "number_sections": true,
   "sideBar": true,
   "skip_h1_title": false,
   "title_cell": "Table of Contents",
   "title_sidebar": "Contents",
   "toc_cell": false,
   "toc_position": {},
   "toc_section_display": true,
   "toc_window_display": false
  },
  "varInspector": {
   "cols": {
    "lenName": 16,
    "lenType": 16,
    "lenVar": 40
   },
   "kernels_config": {
    "python": {
     "delete_cmd_postfix": "",
     "delete_cmd_prefix": "del ",
     "library": "var_list.py",
     "varRefreshCmd": "print(var_dic_list())"
    },
    "r": {
     "delete_cmd_postfix": ") ",
     "delete_cmd_prefix": "rm(",
     "library": "var_list.r",
     "varRefreshCmd": "cat(var_dic_list()) "
    }
   },
   "types_to_exclude": [
    "module",
    "function",
    "builtin_function_or_method",
    "instance",
    "_Feature"
   ],
   "window_display": false
  }
 },
 "nbformat": 4,
 "nbformat_minor": 2
}
