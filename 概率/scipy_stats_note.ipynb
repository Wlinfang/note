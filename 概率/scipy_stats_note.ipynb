{
 "metadata": {
  "language_info": {
   "codemirror_mode": {
    "name": "ipython",
    "version": 3
   },
   "file_extension": ".py",
   "mimetype": "text/x-python",
   "name": "python",
   "nbconvert_exporter": "python",
   "pygments_lexer": "ipython3",
   "version": 3
  },
  "orig_nbformat": 2
 },
 "nbformat": 4,
 "nbformat_minor": 2,
 "cells": [
  {
   "source": [
    "本文主要记录python package scipy 包中的一些方法的使用笔记说明"
   ],
   "cell_type": "markdown",
   "metadata": {}
  },
  {
   "cell_type": "code",
   "execution_count": null,
   "metadata": {},
   "outputs": [],
   "source": [
    "from scipy import stats"
   ]
  },
  {
   "source": [
    "# 离散分布"
   ],
   "cell_type": "markdown",
   "metadata": {}
  },
  {
   "source": [
    "## 参数说明"
   ],
   "cell_type": "markdown",
   "metadata": {}
  },
  {
   "source": [
    "- loc 偏移，指代标准分布的均值+loc \n",
    "- scale 缩放，指标准差缩放"
   ],
   "cell_type": "markdown",
   "metadata": {}
  },
  {
   "source": [
    "## 函数说明"
   ],
   "cell_type": "markdown",
   "metadata": {}
  },
  {
   "source": [
    "- rvs 提取某分布的抽样样本\n",
    "- pmf 概率质量函数 X=x\n",
    "- cdf 概率累计分布函数 X<=x\n",
    "- sf  概率残存函数，值= 1-cdf 的值\n",
    "- ppf 概率分位数函数，已知概率值，求x 值，cdf 函数的逆函数\n",
    "- isf 概率残存函数的逆函数，sf的逆函数\n",
    "- stats 分布的状态表示，返回moments='mvsk' 分别代表均值、方差、（费舍尔）偏态、（费舍尔）峰度"
   ],
   "cell_type": "markdown",
   "metadata": {}
  },
  {
   "cell_type": "code",
   "execution_count": null,
   "metadata": {},
   "outputs": [],
   "source": []
  }
 ]
}