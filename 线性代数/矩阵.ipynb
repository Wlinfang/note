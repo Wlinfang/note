{
 "metadata": {
  "language_info": {
   "codemirror_mode": {
    "name": "ipython",
    "version": 3
   },
   "file_extension": ".py",
   "mimetype": "text/x-python",
   "name": "python",
   "nbconvert_exporter": "python",
   "pygments_lexer": "ipython3",
   "version": "3.8.3-final"
  },
  "orig_nbformat": 2,
  "kernelspec": {
   "name": "python3",
   "display_name": "Python 3",
   "language": "python"
  }
 },
 "nbformat": 4,
 "nbformat_minor": 2,
 "cells": [
  {
   "source": [
    "## m行n列"
   ],
   "cell_type": "markdown",
   "metadata": {}
  },
  {
   "source": [
    "$$\n",
    "\\begin{pmatrix}\n",
    "a_{11}&a_{12}&\\cdots&a_{1n}\\\\\n",
    "\\vdots&\\vdots&\\vdots&\\vdots\\\\\n",
    "a_{m1}&a_{m2}&\\cdots&a_{mn}\\\\\n",
    "\\end{pmatrix}\n",
    "$$"
   ],
   "cell_type": "markdown",
   "metadata": {}
  },
  {
   "source": [
    "## 行向量"
   ],
   "cell_type": "markdown",
   "metadata": {}
  },
  {
   "source": [
    "$$\\begin{pmatrix}a_{11}&a_{12}&\\cdots&a_{1n}\\end{pmatrix}$$ "
   ],
   "cell_type": "markdown",
   "metadata": {}
  },
  {
   "source": [
    "## 列向量"
   ],
   "cell_type": "markdown",
   "metadata": {}
  },
  {
   "source": [
    "$$\\begin{pmatrix}a_{11}\\\\a_{21}\\\\\\vdots\\\\a_{m1}\\end{pmatrix}$$"
   ],
   "cell_type": "markdown",
   "metadata": {}
  },
  {
   "cell_type": "code",
   "execution_count": null,
   "metadata": {},
   "outputs": [],
   "source": []
  }
 ]
}