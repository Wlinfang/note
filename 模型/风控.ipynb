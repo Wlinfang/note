{
 "metadata": {
  "language_info": {
   "codemirror_mode": {
    "name": "ipython",
    "version": 3
   },
   "file_extension": ".py",
   "mimetype": "text/x-python",
   "name": "python",
   "nbconvert_exporter": "python",
   "pygments_lexer": "ipython3",
   "version": "3.8.3-final"
  },
  "orig_nbformat": 2,
  "kernelspec": {
   "name": "python3",
   "display_name": "Python 3",
   "language": "python"
  }
 },
 "nbformat": 4,
 "nbformat_minor": 2,
 "cells": [
  {
   "source": [
    "# 授信定额"
   ],
   "cell_type": "markdown",
   "metadata": {}
  },
  {
   "source": [
    "- 授信额度=基础额度 * 分客群风险调整系数\n",
    "- 基础额度=月可支配收入 * 产品最小期数\n",
    "- 分客群风险调整系数=目标金额呆账率/分客群账户呆账率\n",
    "- 月可支配收入=收入-负债\n",
    "- 目标金额呆账率=整体业务的目标金额的呆账率\n",
    "- 分客群账户呆账率=按照申请评分的分数段来进行客群划分，可以得到每个分数段/分客群的账户呆账率"
   ],
   "cell_type": "markdown",
   "metadata": {}
  },
  {
   "source": [
    "## 产品额度"
   ],
   "cell_type": "markdown",
   "metadata": {}
  },
  {
   "source": [
    "额度模型\n",
    "\n",
    "- 专项额度 ：比如车贷、房贷\n",
    "- 循环额度 ：比如信用卡\n",
    "- 指定额度 ："
   ],
   "cell_type": "markdown",
   "metadata": {}
  },
  {
   "source": [
    "额度要素\n",
    "\n",
    "- 额度范围\n",
    "- 额度有效期\n",
    "- 额度控制"
   ],
   "cell_type": "markdown",
   "metadata": {}
  },
  {
   "cell_type": "code",
   "execution_count": null,
   "metadata": {},
   "outputs": [],
   "source": []
  }
 ]
}