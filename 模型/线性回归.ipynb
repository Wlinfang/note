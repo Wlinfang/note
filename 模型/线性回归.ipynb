{
 "metadata": {
  "language_info": {
   "codemirror_mode": {
    "name": "ipython",
    "version": 3
   },
   "file_extension": ".py",
   "mimetype": "text/x-python",
   "name": "python",
   "nbconvert_exporter": "python",
   "pygments_lexer": "ipython3",
   "version": "3.8.3-final"
  },
  "orig_nbformat": 2,
  "kernelspec": {
   "name": "python3",
   "display_name": "Python 3",
   "language": "python"
  }
 },
 "nbformat": 4,
 "nbformat_minor": 2,
 "cells": [
  {
   "source": [
    "# 数据集"
   ],
   "cell_type": "markdown",
   "metadata": {}
  },
  {
   "source": [
    "样本 N 个； 特征 M 个\n",
    "$$D=\\{(x_1,y_1),(x_2,y_2),\\cdots,(x_n,y_n)\\} \\\\$$"
   ],
   "cell_type": "markdown",
   "metadata": {}
  },
  {
   "source": [
    "样本i的特征向量\n",
    "$$x_i = (x_{i1},x_{i2},\\cdots,x_{im}) ,   x_i \\in R^m$$"
   ],
   "cell_type": "markdown",
   "metadata": {}
  },
  {
   "source": [
    "样本i的y变量\n",
    "$$y_i \\in R$$"
   ],
   "cell_type": "markdown",
   "metadata": {}
  },
  {
   "source": [
    "1个样本是一个列向量   X 为 所有样本的矩阵表示； X 中的1行表示1个样本\n",
    "$$X = (x_1,x_2,\\cdots,x_n)^T $$"
   ],
   "cell_type": "markdown",
   "metadata": {}
  },
  {
   "source": [
    "# 最小二乘法"
   ],
   "cell_type": "markdown",
   "metadata": {}
  },
  {
   "cell_type": "code",
   "execution_count": null,
   "metadata": {},
   "outputs": [],
   "source": [
    "# 画图表示，各个散点拟合为一条直线\n"
   ]
  },
  {
   "source": [
    "## 几何意义：矩阵表达"
   ],
   "cell_type": "markdown",
   "metadata": {}
  },
  {
   "cell_type": "code",
   "execution_count": null,
   "metadata": {},
   "outputs": [],
   "source": []
  },
  {
   "source": [
    "## 概率角度:高斯分布+噪声"
   ],
   "cell_type": "markdown",
   "metadata": {}
  },
  {
   "cell_type": "code",
   "execution_count": null,
   "metadata": {},
   "outputs": [],
   "source": []
  }
 ]
}